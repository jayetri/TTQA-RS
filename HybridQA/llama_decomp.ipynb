{
 "cells": [
  {
   "cell_type": "code",
   "execution_count": 1,
   "id": "1f65186e",
   "metadata": {},
   "outputs": [],
   "source": [
    "import os\n",
    "import json\n",
    "import argparse\n",
    "from tqdm import tqdm\n",
    "from datetime import datetime\n",
    "import pandas as pd\n",
    "import requests"
   ]
  },
  {
   "cell_type": "code",
   "execution_count": 23,
   "id": "028281c8",
   "metadata": {},
   "outputs": [],
   "source": [
    "parser = argparse.ArgumentParser()\n",
    "parser.add_argument(\"--option\", default=\"cot\", type=str)\n",
    "parser.add_argument(\"--model\", default=\"llama2-70b\", type=str, help=\" \")\n",
    "parser.add_argument(\"--start\", default=0, type=int)\n",
    "parser.add_argument(\"--end\", default=None, type=int)\n",
    "parser.add_argument(\n",
    "    \"--temperature\",\n",
    "    type=float,\n",
    "    default=0.5,\n",
    "    help=\"temperature of 0 implies greedy sampling.\",\n",
    ")\n",
    "parser.add_argument(\n",
    "    \"--traced_json_file\",\n",
    "    default=r\"traced.json\",#traced file\n",
    "    type=str,\n",
    ")\n",
    "parser.add_argument(\n",
    "    \"--tables_json_file\",\n",
    "    default=r\"tables.json\",#table files\n",
    "    type=str,\n",
    ")\n",
    "parser.add_argument(\n",
    "    \"--topk_path\",\n",
    "    default=r\"request_tok\",#text files\n",
    "    \n",
    "    type=str,\n",
    ")\n",
    "\n",
    "args = parser.parse_args(\"\")"
   ]
  },
  {
   "cell_type": "code",
   "execution_count": 24,
   "id": "7e279553",
   "metadata": {},
   "outputs": [],
   "source": [
    "demonstration = {}\n",
    "demonstration[\"none\"] = \"\"\n",
    "demonstration[\n",
    "    \"direct\"\n",
    "] = \"\"\"\n",
    "Question Breakdown Example 1: \n",
    "Original Question: How many times did the person who finished the Stockholm Marathon with a time of 2:13:26 win the Boston Marathon ?\n",
    "What sub-question needs to be answered first from the original question?\n",
    "Sub-Question: Who finished the Stockholm Marathon with a time of 2:13:26?\n",
    "\n",
    "Question Breakdown Example 2: \n",
    "Original Question: What is the nickname of the coach with two championship wins and three runner-ups , and was the coach of a team in the first year of its national franchise ?\n",
    "What sub-question needs to be answered first from the original question?\n",
    "Sub-Question: Who has two championship wins and three runner-ups , and was the coach of a team in the first year of its national franchise ?\n",
    "\"\"\"\n",
    "\n",
    "demonstration[\n",
    "    \"cot\"\n",
    "] = \"\"\"\n",
    "Question Breakdown Example 1: \n",
    "Original Question: How many times did the person who finished the Stockholm Marathon with a time of 2:13:26 win the Boston Marathon ?\n",
    "Sub-Question: Who finished the Stockholm Marathon with a time of 2:13:26?\n",
    "Main-Question: How many times did \"Answer of Sub-Question\" win the Boston Marathon ?\n",
    "\n",
    "Question Breakdown Example 2: \n",
    "Original Question: What is the nickname of the coach with two championship wins and three runner-ups , and was the coach of a team in the first year of its national franchise ?\n",
    "Sub-Question: Who has two championship wins and three runner-ups , and was the coach of a team in the first year of its national franchise ?\n",
    "Main-Question: What is the nickname of \"Answer of Sub-Question\"?\n",
    "\"\"\""
   ]
  },
  {
   "cell_type": "code",
   "execution_count": 25,
   "id": "dca55ab1",
   "metadata": {},
   "outputs": [],
   "source": [
    "def read_data(args):\n",
    "    # Load traced JSON file\n",
    "    data_test_traced = json.load(open(args.traced_json_file, \"r\"))\n",
    "    data_list = []\n",
    "    for sample in tqdm(data_test_traced[args.start:args.end]):\n",
    "        table_id = sample[\"table_id\"]\n",
    "        question_data = None\n",
    "        for q_data in questions_data:\n",
    "            if q_data['table_id'] == table_id:\n",
    "                question_data = q_data\n",
    "                break\n",
    "        if question_data is None:\n",
    "            print(f\"No question data found for {table_id}\")\n",
    "            continue\n",
    "        \n",
    "        # Read JSON file from tables_tok\n",
    "        try:\n",
    "            tables_tok_path = f\"{table_id}.json\"  # put your traced table link\n",
    "            with open(tables_tok_path, 'r') as f:\n",
    "                table_data = json.load(f)\n",
    "        except Exception:\n",
    "            print(f\"The file {table_id} does not exist.\")\n",
    "            continue\n",
    "\n",
    "        question_type = question_data['type']\n",
    "        if question_type == 'bridge':\n",
    "            # Get the index of the most relevant row\n",
    "            row_index = question_data['row_pre']\n",
    "            relevant_rows = [table_data['data'][row_index]]\n",
    "        elif question_type == 'comparison':\n",
    "            # Get the indices of all rows with relevance less than or equal to 1.0\n",
    "            row_pre_logits = question_data['row_pre_logit']\n",
    "            relevant_rows = [table_data['data'][i] for i, logit in enumerate(row_pre_logits) if logit <= 1.0]\n",
    "        else:\n",
    "            print(f\"Unknown question type: {question_type}\")\n",
    "            continue\n",
    "\n",
    "        # Read text data\n",
    "        try:\n",
    "            text_file = os.path.join(args.text_path, f\"{table_id}.json\")\n",
    "            with open(text_file, \"r\") as f:\n",
    "                text_data = json.load(f)\n",
    "        except Exception:\n",
    "            print(f\"The file {text_file} does not exist.\")\n",
    "            continue\n",
    "            \n",
    "        question_text = sample[\"question\"]\n",
    "        answer_text = sample[\"pred\"]\n",
    "        \n",
    "        # Extract wiki links from nodes and target\n",
    "        wikis = [\n",
    "            node[2]\n",
    "            for node in sample[\"nodes\"]\n",
    "            if node[2] is not None and node[2].startswith(\"/wiki\")\n",
    "        ]\n",
    "        \n",
    "        target_wiki = sample[\"target\"][2]\n",
    "        if target_wiki and target_wiki.startswith(\"/wiki\"):\n",
    "            wikis.append(target_wiki)\n",
    "        \n",
    "        # Get the corresponding text for each wiki link\n",
    "        wiki_text = \"\"\n",
    "        if wikis:\n",
    "            wiki_lines = [text_data.get(wiki, \"\") for wiki in wikis]\n",
    "            wiki_text = \"\\n\".join(wiki_lines)\n",
    "        \n",
    "        # Create a DataFrame from the table data\n",
    "        df = pd.DataFrame(\n",
    "            [tuple(zip(*row))[0] for row in table_data[\"data\"]],\n",
    "            columns=list(zip(*table_data[\"header\"]))[0],\n",
    "        )\n",
    "\n",
    "        data_list.append({\n",
    "            \"table_id\": table_id,\n",
    "            \"question\": question_text,\n",
    "            \"answer\": answer_text,\n",
    "            \"table\": df,\n",
    "            \"wiki\": wiki_text,\n",
    "            \"title\": table_data[\"title\"],\n",
    "            \"intro\": table_data[\"intro\"]\n",
    "        })\n",
    "\n",
    "    return data_list\n",
    "\n",
    "# Load questions data\n",
    "questions_path = \"test.json\"  # put text answer here\n",
    "with open(questions_path, 'r') as f:\n",
    "    questions_data = json.load(f)\n",
    "\n",
    "def df_format(data):\n",
    "    try:\n",
    "        formatted_str = \" | \".join(data.columns) + \"\\n\"\n",
    "        for _, row in data.iterrows():\n",
    "            row_str = \" | \".join([str(row[col]) for col in data.columns])\n",
    "            formatted_str += row_str + \"\\n\"\n",
    "        return formatted_str\n",
    "    except Exception as e:\n",
    "        #print(f\"Error formatting table: {data}, error: {e}\")\n",
    "        return \"\"\n"
   ]
  },
  {
   "cell_type": "code",
   "execution_count": 26,
   "id": "e532ff16",
   "metadata": {},
   "outputs": [],
   "source": [
    "#Load model or API"
   ]
  },
  {
   "cell_type": "code",
   "execution_count": 27,
   "id": "56254a54",
   "metadata": {},
   "outputs": [
    {
     "data": {
      "text/plain": [
       "768"
      ]
     },
     "execution_count": 27,
     "metadata": {},
     "output_type": "execute_result"
    }
   ],
   "source": [
    "now = datetime.now()\n",
    "dt_string = now.strftime(\"%d_%H_%M\")\n",
    "fw = open(f\"outputs/response_s{args.start}_e{args.end}_{args.option}_{args.model}_{dt_string}.json\", \"w\",)\n",
    "tmp = {\"demonstration\": demonstration[args.option]}\n",
    "fw.write(json.dumps(tmp) + \"\\n\")"
   ]
  },
  {
   "cell_type": "code",
   "execution_count": 28,
   "id": "a55fc01e",
   "metadata": {},
   "outputs": [
    {
     "name": "stderr",
     "output_type": "stream",
     "text": [
      " 24%|███████████████████                                                            | 242/1000 [00:17<00:58, 13.06it/s]"
     ]
    },
    {
     "name": "stdout",
     "output_type": "stream",
     "text": [
      "The file WikiTables-WithLinks-master\\tables_tok\\Homicide:_Life_on_the_Street_0.json does not exist.\n"
     ]
    },
    {
     "name": "stderr",
     "output_type": "stream",
     "text": [
      " 31%|████████████████████████▎                                                      | 308/1000 [00:22<00:54, 12.80it/s]"
     ]
    },
    {
     "name": "stdout",
     "output_type": "stream",
     "text": [
      "The file WikiTables-WithLinks-master\\tables_tok\\Ebertfest:_Roger_Ebert's_Film_Festival_6.json does not exist.\n"
     ]
    },
    {
     "name": "stderr",
     "output_type": "stream",
     "text": [
      " 32%|█████████████████████████▎                                                     | 320/1000 [00:23<00:44, 15.17it/s]"
     ]
    },
    {
     "name": "stdout",
     "output_type": "stream",
     "text": [
      "The file WikiTables-WithLinks-master\\tables_tok\\List_of_National_Treasures_of_Japan_(writings:_Chinese_books)_0.json does not exist.\n"
     ]
    },
    {
     "name": "stderr",
     "output_type": "stream",
     "text": [
      " 69%|██████████████████████████████████████████████████████▌                        | 691/1000 [00:46<00:13, 23.56it/s]"
     ]
    },
    {
     "name": "stdout",
     "output_type": "stream",
     "text": [
      "The file WikiTables-WithLinks-master\\tables_tok\\List_of_Winter_Olympics_venues:_L_0.json does not exist.\n"
     ]
    },
    {
     "name": "stderr",
     "output_type": "stream",
     "text": [
      " 74%|██████████████████████████████████████████████████████████▌                    | 742/1000 [00:48<00:08, 30.26it/s]"
     ]
    },
    {
     "name": "stdout",
     "output_type": "stream",
     "text": [
      "The file WikiTables-WithLinks-master\\tables_tok\\List_of_The_Avengers:_Earth's_Mightiest_Heroes_characters_4.json does not exist.\n"
     ]
    },
    {
     "name": "stderr",
     "output_type": "stream",
     "text": [
      " 77%|████████████████████████████████████████████████████████████▋                  | 768/1000 [00:50<00:11, 20.27it/s]"
     ]
    },
    {
     "name": "stdout",
     "output_type": "stream",
     "text": [
      "The file WikiTables-WithLinks-master\\tables_tok\\WWE_The_Music:_The_Beginning_0.json does not exist.\n"
     ]
    },
    {
     "name": "stderr",
     "output_type": "stream",
     "text": [
      " 99%|█████████████████████████████████████████████████████████████████████████████▉ | 987/1000 [01:02<00:00, 22.89it/s]"
     ]
    },
    {
     "name": "stdout",
     "output_type": "stream",
     "text": [
      "The file WikiTables-WithLinks-master\\tables_tok\\Looney_Tunes_Golden_Collection:_Volume_6_6.json does not exist.\n"
     ]
    },
    {
     "name": "stderr",
     "output_type": "stream",
     "text": [
      "100%|██████████████████████████████████████████████████████████████████████████████| 1000/1000 [01:03<00:00, 15.71it/s]\n"
     ]
    }
   ],
   "source": [
    "data_list = read_data(args)"
   ]
  },
  {
   "cell_type": "code",
   "execution_count": 29,
   "id": "ab6dc51e",
   "metadata": {},
   "outputs": [
    {
     "name": "stderr",
     "output_type": "stream",
     "text": [
      "100%|████████████████████████████████████████████████████████████████████████████████| 993/993 [48:07<00:00,  2.91s/it]\n"
     ]
    }
   ],
   "source": [
    "for entry in tqdm(data_list):\n",
    "    question = entry['question']\n",
    "\n",
    "    #### Formalizing the k-shot demonstration. #####\n",
    "    prompt = demonstration[args.option] + '\\n\\n'\n",
    "    prompt += f'Original Question: ' + question \n",
    "    prompt += \"Let's think through this step-by-step: \\n\"\n",
    "    prompt += \"What sub-question needs to be answered first from the original question?\\n\"\n",
    "    prompt += \"Sub-Question: \\n\\n\"\n",
    "\n",
    "    response_raw = query({'inputs': prompt})\n",
    "    try:\n",
    "        response = response_raw[0].get('generated_text', '').split('\\nSub-Question:')[3].split('Reasoning process')[0].strip()\n",
    "    except KeyError:\n",
    "        response = ''\n",
    "\n",
    "    response = response.split('\\n')[0].strip()\n",
    "\n",
    "    tmp = {\n",
    "        \"question\": question,\n",
    "        \"response\": response,\n",
    "        \"table_id\": entry[\"table_id\"],\n",
    "    }\n",
    "\n",
    "    fw.write(json.dumps(tmp) + \"\\n\")\n",
    "\n",
    "fw.close()\n"
   ]
  },
  {
   "cell_type": "code",
   "execution_count": 22,
   "id": "4a571a7d",
   "metadata": {
    "jupyter": {
     "outputs_hidden": true
    },
    "tags": []
   },
   "outputs": [
    {
     "name": "stdout",
     "output_type": "stream",
     "text": [
      "\n",
      "Question Breakdown Example 1: \n",
      "Original Question: How many times did the person who finished the Stockholm Marathon with a time of 2:13:26 win the Boston Marathon ?\n",
      "Sub-Question: Who finished the Stockholm Marathon with a time of 2:13:26?\n",
      "\n",
      "Question Breakdown Example 2: \n",
      "Original Question: What is the nickname of the coach with two championship wins and three runner-ups , and was the coach of a team in the first year of its national franchise ?\n",
      "Sub-Question: Who has two championship wins and three runner-ups , and was the coach of a team in the first year of its national franchise ?\n",
      "\n",
      "\n",
      "Original QuestionHow many times did the person who finished the Stockholm Marathon with a time of 2:13:26 win the Boston Marathon ?Let's think through this step-by-step:\n",
      "\n",
      "What sub-question needs to be answered first from the original question?\n",
      "Sub-Question: \n",
      "\n",
      "\n"
     ]
    }
   ],
   "source": [
    "print(prompt)"
   ]
  },
  {
   "cell_type": "code",
   "execution_count": 52,
   "id": "6492c988-ee25-426d-b9a5-2a100f79009a",
   "metadata": {
    "jupyter": {
     "outputs_hidden": true
    },
    "tags": []
   },
   "outputs": [
    {
     "name": "stdout",
     "output_type": "stream",
     "text": [
      "\n",
      "\n",
      "Read the table and text regarding \"Stockholm Marathon\" to answer the following question.\n",
      "\n",
      "The table contains important information and this is the introduction of the table:\n",
      "The Stockholm Marathon, known as the ASICS Stockholm Marathon for sponsorship reasons, is an annual marathon arranged in Stockholm, Sweden, since 1979. It serves as the Swedish marathon championship race. At the 2009 Stockholm Marathon more than 18,500 participants (14,442 men and 4,385 women) were registered. [citation needed]\n",
      "\n",
      "Year | Athlete | Country | Time ( h : m : s )\n",
      "1979 | Jukka Toivola | Finland | 2:17:35\n",
      "1980 | Jeff Wells | United States | 2:15:49\n",
      "1981 | Bill Rodgers | United States | 2:13:26\n",
      "1982 | Kjell-Erik Ståhl | Sweden - Hässleholms AIS | 2:19:20\n",
      "1983 | Hugh Jones | United Kingdom | 2:11:37\n",
      "1984 | Agapius Masong | Tanzania | 2:13:47\n",
      "1985 | Tommy Persson | Sweden - Heleneholms IF | 2:17:18\n",
      "1986 | Kjell-Erik Ståhl | Sweden - Enhörna IF | 2:12:33\n",
      "1987 | Kevin Forster | United Kingdom | 2:13:52\n",
      "1988 | Suleiman Nyambui | Tanzania | 2:14:26\n",
      "1989 | Dave Clarke | United Kingdom | 2:13:34\n",
      "1990 | Simon Naali | Tanzania | 2:13:04\n",
      "1991 | Åke Eriksson | Sweden - Hässelby SK | 2:12:38\n",
      "1992 | Hugh Jones | United Kingdom | 2:15:58\n",
      "1993 | Daniel Mbuli | South Africa | 2:16:30\n",
      "1994 | Tesfaye Bekele | Ethiopia | 2:14:06\n",
      "1995 | Åke Eriksson | Sweden - Hässelby SK | 2:14:29\n",
      "1996 | Tesfaye Bekele | Ethiopia | 2:15:05\n",
      "1997 | Benson Masya | Kenya | 2:17:22\n",
      "1998 | Martin Ojuko | Kenya | 2:16:12\n",
      "\n",
      "I believe the following text information will help answer the question:\n",
      "William Henry Bill Rodgers nicknamed Boston Billy ( born December 23 , 1947 ) is an American runner , Olympian and former American record holder in the marathon . Rodgers is best known for his four victories in both the Boston Marathon , including three straight 1978-1980 and the New York City Marathon between 1976 and 1980 .\n",
      "\n",
      "Please think step by step, you should answer only in a word, a number, or a date, instead of a whole sentence. Hint: Using same words from the text and table as answer can achieve better correct rate.\n",
      "\n",
      "Question: How many times did the person who finished the Stockholm Marathon with a time of 2:13:26 win the Boston Marathon ?\n",
      "Answer:\n"
     ]
    }
   ],
   "source": [
    "print(response_raw[0]['generated_text'])"
   ]
  },
  {
   "cell_type": "code",
   "execution_count": null,
   "id": "d5f21225-f092-49f4-8b2b-a087131f0991",
   "metadata": {},
   "outputs": [],
   "source": []
  }
 ],
 "metadata": {
  "kernelspec": {
   "display_name": "Python 3 (ipykernel)",
   "language": "python",
   "name": "python3"
  },
  "language_info": {
   "codemirror_mode": {
    "name": "ipython",
    "version": 3
   },
   "file_extension": ".py",
   "mimetype": "text/x-python",
   "name": "python",
   "nbconvert_exporter": "python",
   "pygments_lexer": "ipython3",
   "version": "3.11.4"
  }
 },
 "nbformat": 4,
 "nbformat_minor": 5
}

{
 "cells": [
  {
   "cell_type": "code",
   "execution_count": 1,
   "id": "1f65186e",
   "metadata": {},
   "outputs": [],
   "source": [
    "import os\n",
    "import json\n",
    "import argparse\n",
    "from tqdm import tqdm\n",
    "from datetime import datetime\n",
    "import pandas as pd\n",
    "import requests"
   ]
  },
  {
   "cell_type": "code",
   "execution_count": 2,
   "id": "028281c8",
   "metadata": {},
   "outputs": [],
   "source": [
    "parser = argparse.ArgumentParser()\n",
    "parser.add_argument(\"--option\", default=\"cot\", type=str)\n",
    "parser.add_argument(\"--model\", default=\"llama2-70b\", type=str, help=\"qwen1.5-14b-chat and qwen-turbo are better\")\n",
    "parser.add_argument(\"--start\", default=0, type=int)\n",
    "parser.add_argument(\"--end\", default=None, type=int)\n",
    "parser.add_argument(\n",
    "    \"--temperature\",\n",
    "    type=float,\n",
    "    default=0.5,\n",
    "    help=\"temperature of 0 implies greedy sampling.\",\n",
    ")\n",
    "parser.add_argument(\n",
    "    \"--traced_json_file\",\n",
    "    default=r\"traced.json\",#traced file\n",
    "    type=str,\n",
    ")\n",
    "parser.add_argument(\n",
    "    \"--tables_json_file\",\n",
    "    default=r\"tables.json\",#table files\n",
    "    type=str,\n",
    ")\n",
    "parser.add_argument(\n",
    "    \"--topk_path\",\n",
    "    default=r\"request_tok\",#text files\n",
    "    \n",
    "    type=str,\n",
    ")\n",
    "\n",
    "args = parser.parse_args(\"\")"
   ]
  },
  {
   "cell_type": "code",
   "execution_count": 3,
   "id": "7e279553",
   "metadata": {},
   "outputs": [],
   "source": [
    "\n",
    "\n",
    "def read_data(args):\n",
    "    data_train_traced = json.load(open(args.traced_json_file, \"r\"))\n",
    "    traindev_table = json.load(open(args.tables_json_file, \"r\"))\n",
    "\n",
    "    data_list = []\n",
    "    for sample in tqdm(data_train_traced[args.start:args.end]):\n",
    "        table_id = sample[\"table_id\"]\n",
    "        try:\n",
    "            topk = json.load(open(os.path.join(args.topk_path, f\"{table_id}.json\"), \"r\"))\n",
    "        except Exception:\n",
    "            print(f\"The file {os.path.join(args.topk_path, f'{table_id}.json')} does not exist.\")\n",
    "            continue\n",
    "        question_text = sample[\"question\"]\n",
    "        answer_text = sample[\"answer-text\"]\n",
    "        wikis = [\n",
    "            node[2]\n",
    "            for node in sample[\"answer-node\"]\n",
    "            if node[2] is not None and node[2].startswith(\"/wiki\")\n",
    "        ]\n",
    "        if len(wikis) == 0:\n",
    "            wiki_text = \"\"\n",
    "        else:\n",
    "            wiki_text = \"\\n\".join([topk[wiki] for wiki in wikis])\n",
    "        df = pd.DataFrame(\n",
    "            [tuple(zip(*row))[0] for row in traindev_table[table_id][\"data\"]],\n",
    "            columns=list(zip(*traindev_table[table_id][\"header\"]))[0],\n",
    "        )\n",
    "        data_list.append(\n",
    "            {\n",
    "                \"question\": question_text,\n",
    "                \"answer\": answer_text,\n",
    "                \"title\": traindev_table[table_id][\"title\"],\n",
    "                \"table\": df,\n",
    "                \"wiki\": wiki_text,\n",
    "                \"table_id\": table_id,\n",
    "                \"intro\": traindev_table[table_id][\"intro\"]\n",
    "            }\n",
    "        )\n",
    "    return data_list\n",
    "\n",
    "\n",
    "def df_format(data):\n",
    "    try:\n",
    "        formatted_str = \" | \".join(data.columns) + \"\\n\"\n",
    "        for _, row in data.iterrows():\n",
    "            row_str = \" | \".join([str(row[col]) for col in data.columns])\n",
    "            formatted_str += row_str + \"\\n\"\n",
    "        return formatted_str\n",
    "    except:\n",
    "        print(f\"wrong table: {csv_path}\")\n",
    "        return \"\"\n",
    "\n",
    "\n"
   ]
  },
  {
   "cell_type": "code",
   "execution_count": 4,
   "id": "1b525f82",
   "metadata": {},
   "outputs": [],
   "source": [
    "demonstration = {}\n",
    "demonstration[\"none\"] = \"\"\n",
    "with open(\"examples/fullmodel_direct_3shot.json\", \"r\") as f:\n",
    "    demonstration[\"direct\"] = json.load(f)\n",
    "with open(\"examples/fullmodel_cot_3shot.json\", \"r\") as f:\n",
    "    demonstration[\"cot\"] = json.load(f)"
   ]
  },
  {
   "cell_type": "code",
   "execution_count": 5,
   "id": "56254a54",
   "metadata": {},
   "outputs": [
    {
     "data": {
      "text/plain": [
       "22"
      ]
     },
     "execution_count": 5,
     "metadata": {},
     "output_type": "execute_result"
    }
   ],
   "source": [
    "now = datetime.now()\n",
    "dt_string = now.strftime(\"%d_%H_%M\")\n",
    "fw = open(f\"outputs/response_s{args.start}_e{args.end}_{args.option}_{args.model}_{dt_string}.json\", \"w\",)\n",
    "tmp = {\"demonstration\": demonstration[args.option]}\n",
    "fw.write(json.dumps(tmp) + \"\\n\")"
   ]
  },
  {
   "cell_type": "code",
   "execution_count": 6,
   "id": "a55fc01e",
   "metadata": {},
   "outputs": [
    {
     "name": "stderr",
     "output_type": "stream",
     "text": [
      " 11%|████████▋                                                                       | 65/600 [00:00<00:03, 176.26it/s]"
     ]
    },
    {
     "name": "stdout",
     "output_type": "stream",
     "text": [
      "The file data\\traindev_request_tok\\Rachael_vs._Guy:_Celebrity_Cook-Off_2.json does not exist.\n"
     ]
    },
    {
     "name": "stderr",
     "output_type": "stream",
     "text": [
      "100%|███████████████████████████████████████████████████████████████████████████████| 600/600 [00:03<00:00, 187.16it/s]\n"
     ]
    }
   ],
   "source": [
    "data_list = read_data(args)"
   ]
  },
  {
   "cell_type": "code",
   "execution_count": 7,
   "id": "e532ff16",
   "metadata": {},
   "outputs": [],
   "source": [
    "#Load model or API"
   ]
  },
  {
   "cell_type": "code",
   "execution_count": 8,
   "id": "456caddf",
   "metadata": {},
   "outputs": [
    {
     "name": "stderr",
     "output_type": "stream",
     "text": [
      "100%|████████████████████████████████████████████████████████████████████████████████| 599/599 [19:41<00:00,  1.97s/it]\n"
     ]
    }
   ],
   "source": [
    "#very long answer with question and reasoning process\n",
    "\n",
    "for entry in tqdm(data_list):\n",
    "    question = entry['question']\n",
    "    answer = entry['answer']\n",
    "\n",
    "    #### Formalizing the k-shot demonstration. #####\n",
    "    prompt = demonstration[args.option] + '\\n\\n'\n",
    "    prompt += f'Read the table and text regarding \"{entry[\"title\"]}\" to answer the following question.\\n\\n'\n",
    "    prompt += df_format(entry['table']) + '\\n'\n",
    "    \n",
    "    if entry['wiki']:\n",
    "        prompt += \"Text:\" + '\\n' + entry['wiki'] + '\\n\\n'\n",
    "    prompt += 'Question: ' + question + '\\nAnswer:'\n",
    "\n",
    "    response_raw = query({'inputs': prompt})\n",
    "\n",
    "    try:\n",
    "        response = response_raw[0].get('generated_text', '').split('\\nAnswer:')[1].split('Reasoning process')[0].strip()\n",
    "    except KeyError:\n",
    "        response = ''\n",
    "\n",
    "    response = response.split('\\n')[0].strip()\n",
    "\n",
    "    tmp = {\n",
    "        \"question\": question,\n",
    "        \"response\": response,\n",
    "        \"answer\": answer,\n",
    "        \"table_id\": entry[\"table_id\"],\n",
    "    }\n",
    "\n",
    "    fw.write(json.dumps(tmp) + \"\\n\")\n",
    "\n",
    "fw.close()\n"
   ]
  },
  {
   "cell_type": "code",
   "execution_count": 9,
   "id": "4a571a7d",
   "metadata": {
    "jupyter": {
     "outputs_hidden": true
    },
    "tags": []
   },
   "outputs": [
    {
     "name": "stdout",
     "output_type": "stream",
     "text": [
      "\n",
      "\n",
      "Read the table and text regarding \"World record progression 100 metres butterfly\" to answer the following question.\n",
      "\n",
      "Time | Swimmer | Date | Place\n",
      "58.77 | Angela Kennedy | February 18 , 1995 | Gelsenkirchen , Germany\n",
      "58.68 | Liu Limin | December 2 , 1995 | Rio de Janeiro , Brazil\n",
      "58.29 | Misty Hyman | December 1 , 1996 | Sainte-Foy , Quebec\n",
      "58.24 | Ayari Aoyama | March 28 , 1997 | Tokyo , Japan\n",
      "57.79 | Jenny Thompson | April 19 , 1997 | Gothenburg , Sweden\n",
      "56.90 | Jenny Thompson | December 1 , 1998 | College Station , United States\n",
      "56.80 | Jenny Thompson | February 12 , 2000 | Paris , France\n",
      "56.56 | Jenny Thompson | March 18 , 2000 | Athens , Greece\n",
      "56.55 | Martina Moravcová | January 26 , 2002 | Berlin , Germany\n",
      "56.34 | Natalie Coughlin | November 22 , 2002 | East Meadow , United States\n",
      "55.95 | Libby Lenton | August 28 , 2006 | Hobart , Australia\n",
      "55.89 | Felicity Galvez | April 13 , 2008 | Manchester United Kingdom\n",
      "55.74 | Libby Trickett | April 26 , 2008 | Canberra , Australia\n",
      "55.68 | Jessicah Schipper | August 12 , 2009 | Hobart , Australia\n",
      "55.46 | Felicity Galvez | November 11 , 2009 | Stockholm , Sweden\n",
      "55.05 | Diane Bui Duyet | December 12 , 2009 | Istanbul , Turkey\n",
      "54.61 | Sarah Sjöström | December 7 , 2014 | Doha , Qatar\n",
      "\n",
      "Text:\n",
      "Jennifer Beth Thompson ( born February 26 , 1973 ) is an American former competition swimmer and anesthesiologist . She is one of the most decorated Olympians in history : twelve medals , including eight gold medals , in the 1992 , 1996 , 2000 , and 2004 Summer Olympics . Thompson , a Massachusetts native who calls Dover , New Hampshire her hometown , began swimming at age 7 at a summer country club called Cedardale in Groveland , Massachusetts . During the indoor season , she swam at the Danvers YMCA from ages 8 to 10 , and then at the Andover-North Andover YMCA from the ages of 10 to 12 . At age 12 she began swimming for Seacoast Swimming Association under coaches Amy and Mike Parratto , and moved to Dover at age 13 . She first appeared on the international scene as a 14-year-old in 1987 , when she won the 50-meter freestyle and placed third in the 100-meter freestyle at the Pan American Games . She won her first world championship in 1991 , as part of the USA 's winning 4×100-meter freestyle relay team , and held the world record in the 50-meter and 100-meter freestyle when she participated in the 1992 Olympics in Barcelona , Spain . Thompson attended Stanford University , and swam for the Stanford Cardinal swimming and diving team in National Collegiate Athletic Association ( NCAA ) and Pacific-10 Conference competition . She was the recipient of the 1994-95 Honda Sports Award for Swimming and Diving , recognizing her as the outstanding college female swimmer of the year . In 2006 , Thompson received a medical degree from the Columbia University College of Physicians and Surgeons , completed a residency in anesthesiology at the Brigham and Women 's Hospital in Boston , Massachusetts , and then a fellowship in pediatric anesthesiology at Children 's Hospital of Boston .\n",
      "Jennifer Beth Thompson ( born February 26 , 1973 ) is an American former competition swimmer and anesthesiologist . She is one of the most decorated Olympians in history : twelve medals , including eight gold medals , in the 1992 , 1996 , 2000 , and 2004 Summer Olympics . Thompson , a Massachusetts native who calls Dover , New Hampshire her hometown , began swimming at age 7 at a summer country club called Cedardale in Groveland , Massachusetts . During the indoor season , she swam at the Danvers YMCA from ages 8 to 10 , and then at the Andover-North Andover YMCA from the ages of 10 to 12 . At age 12 she began swimming for Seacoast Swimming Association under coaches Amy and Mike Parratto , and moved to Dover at age 13 . She first appeared on the international scene as a 14-year-old in 1987 , when she won the 50-meter freestyle and placed third in the 100-meter freestyle at the Pan American Games . She won her first world championship in 1991 , as part of the USA 's winning 4×100-meter freestyle relay team , and held the world record in the 50-meter and 100-meter freestyle when she participated in the 1992 Olympics in Barcelona , Spain . Thompson attended Stanford University , and swam for the Stanford Cardinal swimming and diving team in National Collegiate Athletic Association ( NCAA ) and Pacific-10 Conference competition . She was the recipient of the 1994-95 Honda Sports Award for Swimming and Diving , recognizing her as the outstanding college female swimmer of the year . In 2006 , Thompson received a medical degree from the Columbia University College of Physicians and Surgeons , completed a residency in anesthesiology at the Brigham and Women 's Hospital in Boston , Massachusetts , and then a fellowship in pediatric anesthesiology at Children 's Hospital of Boston .\n",
      "Jennifer Beth Thompson ( born February 26 , 1973 ) is an American former competition swimmer and anesthesiologist . She is one of the most decorated Olympians in history : twelve medals , including eight gold medals , in the 1992 , 1996 , 2000 , and 2004 Summer Olympics . Thompson , a Massachusetts native who calls Dover , New Hampshire her hometown , began swimming at age 7 at a summer country club called Cedardale in Groveland , Massachusetts . During the indoor season , she swam at the Danvers YMCA from ages 8 to 10 , and then at the Andover-North Andover YMCA from the ages of 10 to 12 . At age 12 she began swimming for Seacoast Swimming Association under coaches Amy and Mike Parratto , and moved to Dover at age 13 . She first appeared on the international scene as a 14-year-old in 1987 , when she won the 50-meter freestyle and placed third in the 100-meter freestyle at the Pan American Games . She won her first world championship in 1991 , as part of the USA 's winning 4×100-meter freestyle relay team , and held the world record in the 50-meter and 100-meter freestyle when she participated in the 1992 Olympics in Barcelona , Spain . Thompson attended Stanford University , and swam for the Stanford Cardinal swimming and diving team in National Collegiate Athletic Association ( NCAA ) and Pacific-10 Conference competition . She was the recipient of the 1994-95 Honda Sports Award for Swimming and Diving , recognizing her as the outstanding college female swimmer of the year . In 2006 , Thompson received a medical degree from the Columbia University College of Physicians and Surgeons , completed a residency in anesthesiology at the Brigham and Women 's Hospital in Boston , Massachusetts , and then a fellowship in pediatric anesthesiology at Children 's Hospital of Boston .\n",
      "Jennifer Beth Thompson ( born February 26 , 1973 ) is an American former competition swimmer and anesthesiologist . She is one of the most decorated Olympians in history : twelve medals , including eight gold medals , in the 1992 , 1996 , 2000 , and 2004 Summer Olympics . Thompson , a Massachusetts native who calls Dover , New Hampshire her hometown , began swimming at age 7 at a summer country club called Cedardale in Groveland , Massachusetts . During the indoor season , she swam at the Danvers YMCA from ages 8 to 10 , and then at the Andover-North Andover YMCA from the ages of 10 to 12 . At age 12 she began swimming for Seacoast Swimming Association under coaches Amy and Mike Parratto , and moved to Dover at age 13 . She first appeared on the international scene as a 14-year-old in 1987 , when she won the 50-meter freestyle and placed third in the 100-meter freestyle at the Pan American Games . She won her first world championship in 1991 , as part of the USA 's winning 4×100-meter freestyle relay team , and held the world record in the 50-meter and 100-meter freestyle when she participated in the 1992 Olympics in Barcelona , Spain . Thompson attended Stanford University , and swam for the Stanford Cardinal swimming and diving team in National Collegiate Athletic Association ( NCAA ) and Pacific-10 Conference competition . She was the recipient of the 1994-95 Honda Sports Award for Swimming and Diving , recognizing her as the outstanding college female swimmer of the year . In 2006 , Thompson received a medical degree from the Columbia University College of Physicians and Surgeons , completed a residency in anesthesiology at the Brigham and Women 's Hospital in Boston , Massachusetts , and then a fellowship in pediatric anesthesiology at Children 's Hospital of Boston .\n",
      "\n",
      "Question: What is the profession of the swimmer who swam the women 's 100 metres short course butterfly in 56.56 on March 18 , 2000 ?\n",
      "Answer:\n"
     ]
    }
   ],
   "source": [
    "print(prompt)"
   ]
  },
  {
   "cell_type": "code",
   "execution_count": 52,
   "id": "68299cf9",
   "metadata": {},
   "outputs": [
    {
     "data": {
      "text/plain": [
       "'14 December 1979.'"
      ]
     },
     "execution_count": 52,
     "metadata": {},
     "output_type": "execute_result"
    }
   ],
   "source": [
    "response_raw[0]['generated_text'].split('\\nAnswer:')[2].split('\\n')[0].strip()"
   ]
  },
  {
   "cell_type": "code",
   "execution_count": 74,
   "id": "6492c988-ee25-426d-b9a5-2a100f79009a",
   "metadata": {
    "jupyter": {
     "outputs_hidden": true
    },
    "tags": []
   },
   "outputs": [
    {
     "name": "stdout",
     "output_type": "stream",
     "text": [
      "\n",
      "This is a demonstration:\n",
      "\n",
      "Read the table below regarding the \"2006 League of Ireland Premier Division\". In order to get the answer to the question, you need to combine information from both the table and the text.\n",
      "\n",
      "Team | Manager | Main sponsor | Kit supplier | Stadium | Capacity\n",
      "Bohemians | Gareth Farrelly | Des Kelly Carpets | O'Neills | Dalymount Park | 8,500\n",
      "Bray Wanderers | Eddie Gormley | Slevin Group | Adidas | Carlisle Grounds | 7,000\n",
      "Cork City | Damien Richardson | Nissan | O'Neills | Turners Cross | 8,000\n",
      "Derry City | Stephen Kenny | MeteorElectrical.com | Umbro | The Brandywell | 7,700\n",
      "Drogheda United | Paul Doolin | Murphy Environmental | Jako | United Park | 5,400\n",
      "Dublin City | Dermot Keely | Carroll 's Irish Gift Stores | Umbro | Dalymount Park | 8,500\n",
      "Longford Town | Alan Mathews | Flancare | Umbro | Flancare Park | 4,500\n",
      "Shelbourne | Pat Fenlon | JW Hire | Umbro | Tolka Park | 10,100\n",
      "Sligo Rovers | Sean Connor | Toher 's | Jako | The Showgrounds | 5,500\n",
      "St Patrick 's Athletic | John McDonnell | Smart Telecom | Umbro | Richmond Park | 5,500\n",
      "UCD | Pete Mahon | Budweiser | O'Neills | Belfield Park | 1,900\n",
      "Waterford United | Gareth Cronin | ThermoFrame | Diadora | Waterford Regional Sports Centre | 8,000\n",
      "\n",
      "This is the introduction to the table:\n",
      "The 2006 League of Ireland Premier Division was the 22nd season of the League of Ireland Premier Division. The division was made up of 12 teams. Shelbourne were champions while Derry City finished as runners-up. However Shelbourne were subsequently relegated to the First Division and had to withdraw from the 2007-08 UEFA Champions League and 2007 Setanta Sports Cup because of their financial difficulties.\n",
      "\n",
      "I believe the following text information will help answer the question:\n",
      "The Carlisle Grounds is a football stadium in Bray , County Wicklow , Ireland . Situated directly behind the Bray D.A.R.T . station , it is home to Bray Wanderers A.F.C . Its current capacity is roughly 4,000 .\n",
      "\n",
      "Question: The home stadium of the Bray Wanderers of 2006 League of Ireland is situated behind what station ?\n",
      "Answer: Bray D.A.R.T station\n",
      "The resoning process of this question: \n",
      "Let's think step by step, from the first row of the table, we can see that Bray Wanderers participated in the 2006 League of Ireland Premier Division. Their stadium is listed as \"Carlisle Grounds\".The additional text information mentions that the Carlisle Grounds is situated behind a station in Bray, County Wicklow, Ireland.Putting both pieces of information together, we can conclude that the home stadium of Bray Wanderers, the Carlisle Grounds, is situated behind a station in Bray, County Wicklow. The text specifically mentions the Bray D.A.R.T station.Therefore, the answer to the question is \"Bray D.A.R.T station\".\n",
      "\n",
      "\n",
      "\n",
      "Read the table and text regarding \"2006 League of Ireland Premier Division\" to answer the following question.\n",
      "\n",
      "The table contains important information and this is the introduction of the table:\n",
      "The 2006 League of Ireland Premier Division was the 22nd season of the League of Ireland Premier Division. The division was made up of 12 teams. Shelbourne were champions while Derry City finished as runners-up. However Shelbourne were subsequently relegated to the First Division and had to withdraw from the 2007-08 UEFA Champions League and 2007 Setanta Sports Cup because of their financial difficulties.\n",
      "\n",
      "Team | Manager | Main sponsor | Kit supplier | Stadium | Capacity\n",
      "Bohemians | Gareth Farrelly | Des Kelly Carpets | O'Neills | Dalymount Park | 8,500\n",
      "Bray Wanderers | Eddie Gormley | Slevin Group | Adidas | Carlisle Grounds | 7,000\n",
      "Cork City | Damien Richardson | Nissan | O'Neills | Turners Cross | 8,000\n",
      "Derry City | Stephen Kenny | MeteorElectrical.com | Umbro | The Brandywell | 7,700\n",
      "Drogheda United | Paul Doolin | Murphy Environmental | Jako | United Park | 5,400\n",
      "Dublin City | Dermot Keely | Carroll 's Irish Gift Stores | Umbro | Dalymount Park | 8,500\n",
      "Longford Town | Alan Mathews | Flancare | Umbro | Flancare Park | 4,500\n",
      "Shelbourne | Pat Fenlon | JW Hire | Umbro | Tolka Park | 10,100\n",
      "Sligo Rovers | Sean Connor | Toher 's | Jako | The Showgrounds | 5,500\n",
      "St Patrick 's Athletic | John McDonnell | Smart Telecom | Umbro | Richmond Park | 5,500\n",
      "UCD | Pete Mahon | Budweiser | O'Neills | Belfield Park | 1,900\n",
      "Waterford United | Gareth Cronin | ThermoFrame | Diadora | Waterford Regional Sports Centre | 8,000\n",
      "\n",
      "I believe the following text information will help answer the question:\n",
      "The Carlisle Grounds is a football stadium in Bray , County Wicklow , Ireland . Situated directly behind the Bray D.A.R.T . station , it is home to Bray Wanderers A.F.C . Its current capacity is roughly 4,000 .\n",
      "\n",
      "Please think step by step. Hint: Using same words from the text and table as answer can achieve better correct rate.\n",
      "\n",
      "Question: The home stadium of the Bray Wanderers of 2006 League of Ireland is situated behind what station ?\n",
      "Answer: Bray D.A.R.T station\n"
     ]
    }
   ],
   "source": [
    "print(response_raw[0]['generated_text'])"
   ]
  },
  {
   "cell_type": "code",
   "execution_count": 34,
   "id": "ab6dc51e",
   "metadata": {},
   "outputs": [
    {
     "name": "stderr",
     "output_type": "stream",
     "text": [
      "100%|████████████████████████████████████████████████████████████████████████████████████| 5/5 [00:10<00:00,  2.19s/it]\n"
     ]
    }
   ],
   "source": [
    "for entry in tqdm(data_list):\n",
    "    question = entry['question']\n",
    "    answer = entry['answer']\n",
    "\n",
    "    #### Formalizing the k-shot demonstration. #####\n",
    "    prompt = demonstration[args.option] + '\\n\\n'\n",
    "    prompt += f'Read the table and text regarding \"{entry[\"title\"]}\" to answer the following question.\\n\\n'\n",
    "    prompt += f\"The table contains important information and this is the introduction of the table:\" + '\\n' + entry['intro'] + '\\n\\n'\n",
    "    prompt += df_format(entry['table']) + '\\n'\n",
    "    \n",
    "    if entry['wiki']:\n",
    "        prompt += \"I believe the following text information will help answer the question:\" + '\\n' + entry['wiki'] + '\\n\\n'\n",
    "        prompt += \"Please think step by step. Hint: Using same words from the text and table as answer can achieve better correct rate.\" + '\\n\\n'\n",
    "    prompt += 'Question: ' + question + '\\nAnswer:'\n",
    "\n",
    "    response_raw = query({'inputs': prompt})\n",
    "    try:\n",
    "        response = response_raw[0].get('generated_text', '').split('\\nAnswer:')[2].split('Reasoning process')[0].strip()\n",
    "    except KeyError:\n",
    "        response = ''\n",
    "\n",
    "    response = response.split('\\n')[0].strip()\n",
    "\n",
    "    tmp = {\n",
    "        \"question\": question,\n",
    "        \"response\": response,\n",
    "        \"answer\": answer,\n",
    "        \"table_id\": entry[\"table_id\"],\n",
    "    }\n",
    "\n",
    "    fw.write(json.dumps(tmp) + \"\\n\")\n",
    "\n",
    "fw.close()\n"
   ]
  },
  {
   "cell_type": "code",
   "execution_count": null,
   "id": "d5f21225-f092-49f4-8b2b-a087131f0991",
   "metadata": {},
   "outputs": [],
   "source": []
  }
 ],
 "metadata": {
  "kernelspec": {
   "display_name": "Python 3 (ipykernel)",
   "language": "python",
   "name": "python3"
  },
  "language_info": {
   "codemirror_mode": {
    "name": "ipython",
    "version": 3
   },
   "file_extension": ".py",
   "mimetype": "text/x-python",
   "name": "python",
   "nbconvert_exporter": "python",
   "pygments_lexer": "ipython3",
   "version": "3.11.4"
  }
 },
 "nbformat": 4,
 "nbformat_minor": 5
}

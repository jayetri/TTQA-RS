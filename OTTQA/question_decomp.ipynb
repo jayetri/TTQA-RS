{
 "cells": [
  {
   "cell_type": "code",
   "execution_count": 8,
   "id": "1f65186e",
   "metadata": {},
   "outputs": [],
   "source": [
    "import os\n",
    "import json\n",
    "import argparse\n",
    "from tqdm import tqdm\n",
    "from datetime import datetime\n",
    "import pandas as pd\n",
    "import requests"
   ]
  },
  {
   "cell_type": "code",
   "execution_count": 9,
   "id": "028281c8",
   "metadata": {},
   "outputs": [],
   "source": [
    "parser = argparse.ArgumentParser()\n",
    "parser.add_argument(\"--option\", default=\"none\", type=str)\n",
    "parser.add_argument(\"--model\", default=\"llama2-70b\", type=str, help=\"qwen1.5-14b-chat and qwen-turbo are better\")\n",
    "parser.add_argument(\"--start\", default=0, type=int)\n",
    "parser.add_argument(\"--end\", default=None, type=int)\n",
    "parser.add_argument(\n",
    "    \"--temperature\",\n",
    "    type=float,\n",
    "    default=0.5,\n",
    "    help=\"temperature of 0 implies greedy sampling.\",\n",
    ")\n",
    "parser.add_argument(\n",
    "    \"--traced_json_file\",\n",
    "    default=r\"traced.json\",#traced file\n",
    "    type=str,\n",
    ")\n",
    "parser.add_argument(\n",
    "    \"--tables_json_file\",\n",
    "    default=r\"tables.json\",#table files\n",
    "    type=str,\n",
    ")\n",
    "parser.add_argument(\n",
    "    \"--topk_path\",\n",
    "    default=r\"request_tok\",#text files\n",
    "    \n",
    "    type=str,\n",
    ")\n",
    "\n",
    "args = parser.parse_args(\"\")"
   ]
  },
  {
   "cell_type": "code",
   "execution_count": 10,
   "id": "7e279553",
   "metadata": {},
   "outputs": [],
   "source": [
    "\n",
    "\n",
    "def read_data(args):\n",
    "    data_train_traced = json.load(open(args.traced_json_file, \"r\"))\n",
    "    traindev_table = json.load(open(args.tables_json_file, \"r\"))\n",
    "\n",
    "    data_list = []\n",
    "    for sample in tqdm(data_train_traced[args.start:args.end]):\n",
    "        table_id = sample[\"table_id\"]\n",
    "        try:\n",
    "            topk = json.load(open(os.path.join(args.topk_path, f\"{table_id}.json\"), \"r\"))\n",
    "        except Exception:\n",
    "            print(f\"The file {os.path.join(args.topk_path, f'{table_id}.json')} does not exist.\")\n",
    "            continue\n",
    "        question_text = sample[\"question\"]\n",
    "        answer_text = sample[\"answer-text\"]\n",
    "        wikis = [\n",
    "            node[2]\n",
    "            for node in sample[\"answer-node\"]\n",
    "            if node[2] is not None and node[2].startswith(\"/wiki\")\n",
    "        ]\n",
    "        if len(wikis) == 0:\n",
    "            wiki_text = \"\"\n",
    "        else:\n",
    "            wiki_text = \"\\n\".join([topk[wiki] for wiki in wikis])\n",
    "        df = pd.DataFrame(\n",
    "            [tuple(zip(*row))[0] for row in traindev_table[table_id][\"data\"]],\n",
    "            columns=list(zip(*traindev_table[table_id][\"header\"]))[0],\n",
    "        )\n",
    "        data_list.append(\n",
    "            {\n",
    "                \"question\": question_text,\n",
    "                \"answer\": answer_text,\n",
    "                \"title\": traindev_table[table_id][\"title\"],\n",
    "                \"table\": df,\n",
    "                \"wiki\": wiki_text,\n",
    "                \"table_id\": table_id,\n",
    "                \"intro\": traindev_table[table_id][\"intro\"]\n",
    "            }\n",
    "        )\n",
    "    return data_list\n",
    "\n",
    "\n",
    "def df_format(data):\n",
    "    try:\n",
    "        formatted_str = \" | \".join(data.columns) + \"\\n\"\n",
    "        for _, row in data.iterrows():\n",
    "            row_str = \" | \".join([str(row[col]) for col in data.columns])\n",
    "            formatted_str += row_str + \"\\n\"\n",
    "        return formatted_str\n",
    "    except:\n",
    "        print(f\"wrong table: {csv_path}\")\n",
    "        return \"\"\n",
    "\n",
    "\n"
   ]
  },
  {
   "cell_type": "code",
   "execution_count": 11,
   "id": "1b525f82",
   "metadata": {},
   "outputs": [],
   "source": [
    "demonstration = {}\n",
    "demonstration[\"none\"] = \"\"\n",
    "demonstration[\n",
    "    \"direct\"\n",
    "] = \"\"\"\n",
    "Question Breakdown Example 1: \n",
    "Original Question: How many times did the person who finished the Stockholm Marathon with a time of 2:13:26 win the Boston Marathon ?\n",
    "What sub-question needs to be answered first from the original question?\n",
    "Sub-Question: Who finished the Stockholm Marathon with a time of 2:13:26?\n",
    "\n",
    "Question Breakdown Example 2: \n",
    "Original Question: What is the nickname of the coach with two championship wins and three runner-ups , and was the coach of a team in the first year of its national franchise ?\n",
    "What sub-question needs to be answered first from the original question?\n",
    "Sub-Question: Who has two championship wins and three runner-ups , and was the coach of a team in the first year of its national franchise ?\n",
    "\"\"\"\n",
    "\n",
    "demonstration[\n",
    "    \"cot\"\n",
    "] = \"\"\"\n",
    "Question Breakdown Example 1: \n",
    "Original Question: How many times did the person who finished the Stockholm Marathon with a time of 2:13:26 win the Boston Marathon ?\n",
    "Sub-Question: Who finished the Stockholm Marathon with a time of 2:13:26?\n",
    "Main-Question: How many times did \"Answer of Sub-Question\" win the Boston Marathon ?\n",
    "\n",
    "Question Breakdown Example 2: \n",
    "Original Question: What is the nickname of the coach with two championship wins and three runner-ups , and was the coach of a team in the first year of its national franchise ?\n",
    "Sub-Question: Who has two championship wins and three runner-ups , and was the coach of a team in the first year of its national franchise ?\n",
    "Main-Question: What is the nickname of \"Answer of Sub-Question\"?\n",
    "\"\"\""
   ]
  },
  {
   "cell_type": "code",
   "execution_count": 12,
   "id": "56254a54",
   "metadata": {},
   "outputs": [
    {
     "data": {
      "text/plain": [
       "2872"
      ]
     },
     "execution_count": 12,
     "metadata": {},
     "output_type": "execute_result"
    }
   ],
   "source": [
    "now = datetime.now()\n",
    "dt_string = now.strftime(\"%d_%H_%M\")\n",
    "fw = open(f\"outputs/subquestion_s{args.start}_e{args.end}_{args.option}_{args.model}_{dt_string}.json\", \"w\",)\n",
    "tmp = {\"demonstration\": demonstration[args.option]}\n",
    "fw.write(json.dumps(tmp) + \"\\n\")"
   ]
  },
  {
   "cell_type": "code",
   "execution_count": 13,
   "id": "a55fc01e",
   "metadata": {},
   "outputs": [
    {
     "name": "stderr",
     "output_type": "stream",
     "text": [
      " 30%|███████████████████████▌                                                      | 181/600 [00:00<00:00, 1661.07it/s]"
     ]
    },
    {
     "name": "stdout",
     "output_type": "stream",
     "text": [
      "The file data\\traindev_request_tok\\Rachael_vs._Guy:_Celebrity_Cook-Off_2.json does not exist.\n"
     ]
    },
    {
     "name": "stderr",
     "output_type": "stream",
     "text": [
      "100%|██████████████████████████████████████████████████████████████████████████████| 600/600 [00:00<00:00, 1639.86it/s]\n"
     ]
    }
   ],
   "source": [
    "data_list = read_data(args)"
   ]
  },
  {
   "cell_type": "code",
   "execution_count": 14,
   "id": "e532ff16",
   "metadata": {},
   "outputs": [],
   "source": [
    "#Load model or API"
   ]
  },
  {
   "cell_type": "code",
   "execution_count": 15,
   "id": "2f0af863",
   "metadata": {},
   "outputs": [
    {
     "name": "stderr",
     "output_type": "stream",
     "text": [
      "100%|████████████████████████████████████████████████████████████████████████████████| 599/599 [37:09<00:00,  3.72s/it]\n"
     ]
    }
   ],
   "source": [
    "for entry in tqdm(data_list):\n",
    "    question = entry['question']\n",
    "\n",
    "    #### Formalizing the k-shot demonstration. #####\n",
    "    prompt = demonstration[args.option] + '\\n\\n'\n",
    "    prompt += f'Original Question: ' + question \n",
    "    prompt += \"Let's think through this step-by-step: \\n\"\n",
    "    prompt += \"What sub-question needs to be answered first from the original question?\\n\"\n",
    "    prompt += \"Sub-Question: \\n\\n\"\n",
    "\n",
    "    response_raw = query({'inputs': prompt})\n",
    "    try:\n",
    "        response = response_raw[0].get('generated_text', '').split('\\nSub-Question:')[3].split('Reasoning process')[0].strip()\n",
    "    except KeyError:\n",
    "        response = ''\n",
    "\n",
    "    response = response.split('\\n')[0].strip()\n",
    "\n",
    "    tmp = {\n",
    "        \"question\": question,\n",
    "        \"response\": response,\n",
    "        \"table_id\": entry[\"table_id\"],\n",
    "    }\n",
    "\n",
    "    fw.write(json.dumps(tmp) + \"\\n\")\n",
    "\n",
    "fw.close()\n"
   ]
  },
  {
   "cell_type": "code",
   "execution_count": 14,
   "id": "4a571a7d",
   "metadata": {
    "jupyter": {
     "outputs_hidden": true
    },
    "tags": []
   },
   "outputs": [
    {
     "name": "stdout",
     "output_type": "stream",
     "text": [
      "\n",
      "This is a demonstration:\n",
      "\n",
      "Read the table below regarding the \"2006 League of Ireland Premier Division\". In order to get the answer to the question, you need to combine information from both the table and the text.\n",
      "\n",
      "Team | Manager | Main sponsor | Kit supplier | Stadium | Capacity\n",
      "Bohemians | Gareth Farrelly | Des Kelly Carpets | O'Neills | Dalymount Park | 8,500\n",
      "Bray Wanderers | Eddie Gormley | Slevin Group | Adidas | Carlisle Grounds | 7,000\n",
      "Cork City | Damien Richardson | Nissan | O'Neills | Turners Cross | 8,000\n",
      "Derry City | Stephen Kenny | MeteorElectrical.com | Umbro | The Brandywell | 7,700\n",
      "Drogheda United | Paul Doolin | Murphy Environmental | Jako | United Park | 5,400\n",
      "Dublin City | Dermot Keely | Carroll 's Irish Gift Stores | Umbro | Dalymount Park | 8,500\n",
      "Longford Town | Alan Mathews | Flancare | Umbro | Flancare Park | 4,500\n",
      "Shelbourne | Pat Fenlon | JW Hire | Umbro | Tolka Park | 10,100\n",
      "Sligo Rovers | Sean Connor | Toher 's | Jako | The Showgrounds | 5,500\n",
      "St Patrick 's Athletic | John McDonnell | Smart Telecom | Umbro | Richmond Park | 5,500\n",
      "UCD | Pete Mahon | Budweiser | O'Neills | Belfield Park | 1,900\n",
      "Waterford United | Gareth Cronin | ThermoFrame | Diadora | Waterford Regional Sports Centre | 8,000\n",
      "\n",
      "This is the introduction to the table:\n",
      "The 2006 League of Ireland Premier Division was the 22nd season of the League of Ireland Premier Division. The division was made up of 12 teams. Shelbourne were champions while Derry City finished as runners-up. However Shelbourne were subsequently relegated to the First Division and had to withdraw from the 2007-08 UEFA Champions League and 2007 Setanta Sports Cup because of their financial difficulties.\n",
      "\n",
      "I believe the following text information will help answer the question:\n",
      "The Carlisle Grounds is a football stadium in Bray , County Wicklow , Ireland . Situated directly behind the Bray D.A.R.T . station , it is home to Bray Wanderers A.F.C . Its current capacity is roughly 4,000 .\n",
      "\n",
      "Question: The home stadium of the Bray Wanderers of 2006 League of Ireland is situated behind what station ?\n",
      "Answer: Bray D.A.R.T station\n",
      "The resoning process of this question: \n",
      "Let's think step by step, from the first row of the table, we can see that Bray Wanderers participated in the 2006 League of Ireland Premier Division. Their stadium is listed as \"Carlisle Grounds\".The additional text information mentions that the Carlisle Grounds is situated behind a station in Bray, County Wicklow, Ireland.Putting both pieces of information together, we can conclude that the home stadium of Bray Wanderers, the Carlisle Grounds, is situated behind a station in Bray, County Wicklow. The text specifically mentions the Bray D.A.R.T station.Therefore, the answer to the question is \"Bray D.A.R.T station\".\n",
      "\n",
      "\n",
      "\n",
      "Read the table and text regarding \"Nonso Anozie\" to answer the following question.\n",
      "\n",
      "The table contains important information and this is the introduction of the table:\n",
      "Nonso Anozie (born 17 November 1978) is a British actor who has worked on stage, film, and television. He is best known for his role as Tank in RocknRolla, Sergeant Dap in Ender's Game, Abraham Kenyatta in Zoo, Captain of the Guards in Cinderella and Xaro Xhoan Daxos in the HBO television series Game of Thrones.\n",
      "\n",
      "Year | Title | Role | Notes\n",
      "2007 | Prime Suspect 7 : The Final Act | Robert | Episode : Part 1\n",
      "2009 | Occupation | Erik Lester | 3 episodes\n",
      "2011 | Outcasts | Elijah | 1 episode\n",
      "2011 | Stolen | Thomas Ekoku | TV movie\n",
      "2012 | Game of Thrones | Xaro Xhoan Daxos | 5 episodes\n",
      "2013 | The Bible | Samson | Episode : Homeland\n",
      "2013 | Playhouse Presents | Chris | Episode : The Pavement Psychologist\n",
      "2013-14 | Dracula | R.M . Renfield | Main cast ; 10 episodes\n",
      "2015-17 | Zoo | Abraham Kenyatta | Main cast\n",
      "2015 | Tut | General Horemheb | Miniseries ; 3 episodes\n",
      "2015 | Doctor Who | Hydroflax ( body { voice only } ) | Episode : The Husbands of River Song\n",
      "2016 | A Midsummer Night 's Dream | Oberon | TV movie\n",
      "\n",
      "I believe the following text information will help answer the question:\n",
      "Prime Suspect is a British police procedural television drama series devised by Lynda La Plante . It stars Helen Mirren as Jane Tennison , one of the first female Detective Chief Inspectors in Greater London 's Metropolitan Police Service , who rises to the rank of Detective Superintendent while confronting the institutionalised sexism that exists within the police force .\n",
      "\n",
      "Please think step by step. Please also show me the reasoning process.\n",
      "\n",
      "Question: Who created the series in which the character of Robert , played by actor Nonso Anozie , appeared ?\n",
      "Answer:\n"
     ]
    }
   ],
   "source": [
    "print(prompt)"
   ]
  },
  {
   "cell_type": "code",
   "execution_count": 30,
   "id": "6492c988-ee25-426d-b9a5-2a100f79009a",
   "metadata": {
    "jupyter": {
     "outputs_hidden": true
    },
    "tags": []
   },
   "outputs": [
    {
     "name": "stdout",
     "output_type": "stream",
     "text": [
      "\n",
      "\n",
      "Read the following table and text regarding \"Nonso Anozie\":and answer the question.\n",
      "\n",
      "Introduction:\n",
      "Nonso Anozie (born 17 November 1978) is a British actor who has worked on stage, film, and television. He is best known for his role as Tank in RocknRolla, Sergeant Dap in Ender's Game, Abraham Kenyatta in Zoo, Captain of the Guards in Cinderella and Xaro Xhoan Daxos in the HBO television series Game of Thrones.\n",
      "\n",
      "Year | Title | Role | Notes\n",
      "2007 | Prime Suspect 7 : The Final Act | Robert | Episode : Part 1\n",
      "2009 | Occupation | Erik Lester | 3 episodes\n",
      "2011 | Outcasts | Elijah | 1 episode\n",
      "2011 | Stolen | Thomas Ekoku | TV movie\n",
      "2012 | Game of Thrones | Xaro Xhoan Daxos | 5 episodes\n",
      "2013 | The Bible | Samson | Episode : Homeland\n",
      "2013 | Playhouse Presents | Chris | Episode : The Pavement Psychologist\n",
      "2013-14 | Dracula | R.M . Renfield | Main cast ; 10 episodes\n",
      "2015-17 | Zoo | Abraham Kenyatta | Main cast\n",
      "2015 | Tut | General Horemheb | Miniseries ; 3 episodes\n",
      "2015 | Doctor Who | Hydroflax ( body { voice only } ) | Episode : The Husbands of River Song\n",
      "2016 | A Midsummer Night 's Dream | Oberon | TV movie\n",
      "\n",
      "Text:\n",
      "Prime Suspect is a British police procedural television drama series devised by Lynda La Plante . It stars Helen Mirren as Jane Tennison , one of the first female Detective Chief Inspectors in Greater London 's Metropolitan Police Service , who rises to the rank of Detective Superintendent while confronting the institutionalised sexism that exists within the police force .\n",
      "\n",
      "Simplify your answer to a/an :person\n",
      "Dont answer in full sentence. Using exactly the same word from the text and table as answer can achieve better correct rate.\n",
      "\n",
      "Question: In which series did actor Nonso Anozie play the character of Robert?\n",
      "Answer: Prime Suspect \n",
      "\n",
      "---\n",
      "\n",
      "Read the following table and text regarding \"Nonso Anozie\":and answer the question.\n",
      "\n",
      "Text:\n",
      "RocknRolla is a 2008 British crime comedy film written and directed by Guy Ritchie.\n",
      "\n",
      "Table:\n",
      "Year | Title | Role | Notes\n",
      "2007 | Prime Suspect 7 : The Final Act | Robert | Episode : Part 1\n",
      "2008 | RocknRolla | Tank | \n",
      "2009 | Occupation | Erik Lester | 3 episodes\n"
     ]
    }
   ],
   "source": [
    "print(response_raw[0]['generated_text'])"
   ]
  }
 ],
 "metadata": {
  "kernelspec": {
   "display_name": "Python 3 (ipykernel)",
   "language": "python",
   "name": "python3"
  },
  "language_info": {
   "codemirror_mode": {
    "name": "ipython",
    "version": 3
   },
   "file_extension": ".py",
   "mimetype": "text/x-python",
   "name": "python",
   "nbconvert_exporter": "python",
   "pygments_lexer": "ipython3",
   "version": "3.11.4"
  }
 },
 "nbformat": 4,
 "nbformat_minor": 5
}
